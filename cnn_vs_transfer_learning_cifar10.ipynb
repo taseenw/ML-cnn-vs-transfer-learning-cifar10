{
  "cells": [
    {
      "cell_type": "markdown",
      "metadata": {
        "id": "dOwMz8P4u8xf"
      },
      "source": [
        "### Install and Setup"
      ]
    },
    {
      "cell_type": "code",
      "execution_count": null,
      "metadata": {
        "id": "VfRu1q4UrZLv",
        "colab": {
          "base_uri": "https://localhost:8080/"
        },
        "outputId": "9c4a18e4-45c1-4715-b880-651bc60dd343"
      },
      "outputs": [
        {
          "output_type": "stream",
          "name": "stdout",
          "text": [
            "Collecting torchmetrics\n",
            "  Downloading torchmetrics-1.7.0-py3-none-any.whl.metadata (21 kB)\n",
            "Requirement already satisfied: numpy>1.20.0 in /usr/local/lib/python3.11/dist-packages (from torchmetrics) (2.0.2)\n",
            "Requirement already satisfied: packaging>17.1 in /usr/local/lib/python3.11/dist-packages (from torchmetrics) (24.2)\n",
            "Requirement already satisfied: torch>=2.0.0 in /usr/local/lib/python3.11/dist-packages (from torchmetrics) (2.6.0+cu124)\n",
            "Collecting lightning-utilities>=0.8.0 (from torchmetrics)\n",
            "  Downloading lightning_utilities-0.14.2-py3-none-any.whl.metadata (5.6 kB)\n",
            "Requirement already satisfied: setuptools in /usr/local/lib/python3.11/dist-packages (from lightning-utilities>=0.8.0->torchmetrics) (75.1.0)\n",
            "Requirement already satisfied: typing_extensions in /usr/local/lib/python3.11/dist-packages (from lightning-utilities>=0.8.0->torchmetrics) (4.12.2)\n",
            "Requirement already satisfied: filelock in /usr/local/lib/python3.11/dist-packages (from torch>=2.0.0->torchmetrics) (3.18.0)\n",
            "Requirement already satisfied: networkx in /usr/local/lib/python3.11/dist-packages (from torch>=2.0.0->torchmetrics) (3.4.2)\n",
            "Requirement already satisfied: jinja2 in /usr/local/lib/python3.11/dist-packages (from torch>=2.0.0->torchmetrics) (3.1.6)\n",
            "Requirement already satisfied: fsspec in /usr/local/lib/python3.11/dist-packages (from torch>=2.0.0->torchmetrics) (2025.3.0)\n",
            "Collecting nvidia-cuda-nvrtc-cu12==12.4.127 (from torch>=2.0.0->torchmetrics)\n",
            "  Downloading nvidia_cuda_nvrtc_cu12-12.4.127-py3-none-manylinux2014_x86_64.whl.metadata (1.5 kB)\n",
            "Collecting nvidia-cuda-runtime-cu12==12.4.127 (from torch>=2.0.0->torchmetrics)\n",
            "  Downloading nvidia_cuda_runtime_cu12-12.4.127-py3-none-manylinux2014_x86_64.whl.metadata (1.5 kB)\n",
            "Collecting nvidia-cuda-cupti-cu12==12.4.127 (from torch>=2.0.0->torchmetrics)\n",
            "  Downloading nvidia_cuda_cupti_cu12-12.4.127-py3-none-manylinux2014_x86_64.whl.metadata (1.6 kB)\n",
            "Collecting nvidia-cudnn-cu12==9.1.0.70 (from torch>=2.0.0->torchmetrics)\n",
            "  Downloading nvidia_cudnn_cu12-9.1.0.70-py3-none-manylinux2014_x86_64.whl.metadata (1.6 kB)\n",
            "Collecting nvidia-cublas-cu12==12.4.5.8 (from torch>=2.0.0->torchmetrics)\n",
            "  Downloading nvidia_cublas_cu12-12.4.5.8-py3-none-manylinux2014_x86_64.whl.metadata (1.5 kB)\n",
            "Collecting nvidia-cufft-cu12==11.2.1.3 (from torch>=2.0.0->torchmetrics)\n",
            "  Downloading nvidia_cufft_cu12-11.2.1.3-py3-none-manylinux2014_x86_64.whl.metadata (1.5 kB)\n",
            "Collecting nvidia-curand-cu12==10.3.5.147 (from torch>=2.0.0->torchmetrics)\n",
            "  Downloading nvidia_curand_cu12-10.3.5.147-py3-none-manylinux2014_x86_64.whl.metadata (1.5 kB)\n",
            "Collecting nvidia-cusolver-cu12==11.6.1.9 (from torch>=2.0.0->torchmetrics)\n",
            "  Downloading nvidia_cusolver_cu12-11.6.1.9-py3-none-manylinux2014_x86_64.whl.metadata (1.6 kB)\n",
            "Collecting nvidia-cusparse-cu12==12.3.1.170 (from torch>=2.0.0->torchmetrics)\n",
            "  Downloading nvidia_cusparse_cu12-12.3.1.170-py3-none-manylinux2014_x86_64.whl.metadata (1.6 kB)\n",
            "Requirement already satisfied: nvidia-cusparselt-cu12==0.6.2 in /usr/local/lib/python3.11/dist-packages (from torch>=2.0.0->torchmetrics) (0.6.2)\n",
            "Requirement already satisfied: nvidia-nccl-cu12==2.21.5 in /usr/local/lib/python3.11/dist-packages (from torch>=2.0.0->torchmetrics) (2.21.5)\n",
            "Requirement already satisfied: nvidia-nvtx-cu12==12.4.127 in /usr/local/lib/python3.11/dist-packages (from torch>=2.0.0->torchmetrics) (12.4.127)\n",
            "Collecting nvidia-nvjitlink-cu12==12.4.127 (from torch>=2.0.0->torchmetrics)\n",
            "  Downloading nvidia_nvjitlink_cu12-12.4.127-py3-none-manylinux2014_x86_64.whl.metadata (1.5 kB)\n",
            "Requirement already satisfied: triton==3.2.0 in /usr/local/lib/python3.11/dist-packages (from torch>=2.0.0->torchmetrics) (3.2.0)\n",
            "Requirement already satisfied: sympy==1.13.1 in /usr/local/lib/python3.11/dist-packages (from torch>=2.0.0->torchmetrics) (1.13.1)\n",
            "Requirement already satisfied: mpmath<1.4,>=1.1.0 in /usr/local/lib/python3.11/dist-packages (from sympy==1.13.1->torch>=2.0.0->torchmetrics) (1.3.0)\n",
            "Requirement already satisfied: MarkupSafe>=2.0 in /usr/local/lib/python3.11/dist-packages (from jinja2->torch>=2.0.0->torchmetrics) (3.0.2)\n",
            "Downloading torchmetrics-1.7.0-py3-none-any.whl (960 kB)\n",
            "\u001b[2K   \u001b[90m━━━━━━━━━━━━━━━━━━━━━━━━━━━━━━━━━━━━━━━━\u001b[0m \u001b[32m960.9/960.9 kB\u001b[0m \u001b[31m16.9 MB/s\u001b[0m eta \u001b[36m0:00:00\u001b[0m\n",
            "\u001b[?25hDownloading lightning_utilities-0.14.2-py3-none-any.whl (28 kB)\n",
            "Downloading nvidia_cublas_cu12-12.4.5.8-py3-none-manylinux2014_x86_64.whl (363.4 MB)\n",
            "\u001b[2K   \u001b[90m━━━━━━━━━━━━━━━━━━━━━━━━━━━━━━━━━━━━━━━━\u001b[0m \u001b[32m363.4/363.4 MB\u001b[0m \u001b[31m3.5 MB/s\u001b[0m eta \u001b[36m0:00:00\u001b[0m\n",
            "\u001b[?25hDownloading nvidia_cuda_cupti_cu12-12.4.127-py3-none-manylinux2014_x86_64.whl (13.8 MB)\n",
            "\u001b[2K   \u001b[90m━━━━━━━━━━━━━━━━━━━━━━━━━━━━━━━━━━━━━━━━\u001b[0m \u001b[32m13.8/13.8 MB\u001b[0m \u001b[31m68.6 MB/s\u001b[0m eta \u001b[36m0:00:00\u001b[0m\n",
            "\u001b[?25hDownloading nvidia_cuda_nvrtc_cu12-12.4.127-py3-none-manylinux2014_x86_64.whl (24.6 MB)\n",
            "\u001b[2K   \u001b[90m━━━━━━━━━━━━━━━━━━━━━━━━━━━━━━━━━━━━━━━━\u001b[0m \u001b[32m24.6/24.6 MB\u001b[0m \u001b[31m52.3 MB/s\u001b[0m eta \u001b[36m0:00:00\u001b[0m\n",
            "\u001b[?25hDownloading nvidia_cuda_runtime_cu12-12.4.127-py3-none-manylinux2014_x86_64.whl (883 kB)\n",
            "\u001b[2K   \u001b[90m━━━━━━━━━━━━━━━━━━━━━━━━━━━━━━━━━━━━━━━━\u001b[0m \u001b[32m883.7/883.7 kB\u001b[0m \u001b[31m46.4 MB/s\u001b[0m eta \u001b[36m0:00:00\u001b[0m\n",
            "\u001b[?25hDownloading nvidia_cudnn_cu12-9.1.0.70-py3-none-manylinux2014_x86_64.whl (664.8 MB)\n",
            "\u001b[2K   \u001b[90m━━━━━━━━━━━━━━━━━━━━━━━━━━━━━━━━━━━━━━━━\u001b[0m \u001b[32m664.8/664.8 MB\u001b[0m \u001b[31m2.7 MB/s\u001b[0m eta \u001b[36m0:00:00\u001b[0m\n",
            "\u001b[?25hDownloading nvidia_cufft_cu12-11.2.1.3-py3-none-manylinux2014_x86_64.whl (211.5 MB)\n",
            "\u001b[2K   \u001b[90m━━━━━━━━━━━━━━━━━━━━━━━━━━━━━━━━━━━━━━━━\u001b[0m \u001b[32m211.5/211.5 MB\u001b[0m \u001b[31m5.8 MB/s\u001b[0m eta \u001b[36m0:00:00\u001b[0m\n",
            "\u001b[?25hDownloading nvidia_curand_cu12-10.3.5.147-py3-none-manylinux2014_x86_64.whl (56.3 MB)\n",
            "\u001b[2K   \u001b[90m━━━━━━━━━━━━━━━━━━━━━━━━━━━━━━━━━━━━━━━━\u001b[0m \u001b[32m56.3/56.3 MB\u001b[0m \u001b[31m10.5 MB/s\u001b[0m eta \u001b[36m0:00:00\u001b[0m\n",
            "\u001b[?25hDownloading nvidia_cusolver_cu12-11.6.1.9-py3-none-manylinux2014_x86_64.whl (127.9 MB)\n",
            "\u001b[2K   \u001b[90m━━━━━━━━━━━━━━━━━━━━━━━━━━━━━━━━━━━━━━━━\u001b[0m \u001b[32m127.9/127.9 MB\u001b[0m \u001b[31m7.6 MB/s\u001b[0m eta \u001b[36m0:00:00\u001b[0m\n",
            "\u001b[?25hDownloading nvidia_cusparse_cu12-12.3.1.170-py3-none-manylinux2014_x86_64.whl (207.5 MB)\n",
            "\u001b[2K   \u001b[90m━━━━━━━━━━━━━━━━━━━━━━━━━━━━━━━━━━━━━━━━\u001b[0m \u001b[32m207.5/207.5 MB\u001b[0m \u001b[31m5.9 MB/s\u001b[0m eta \u001b[36m0:00:00\u001b[0m\n",
            "\u001b[?25hDownloading nvidia_nvjitlink_cu12-12.4.127-py3-none-manylinux2014_x86_64.whl (21.1 MB)\n",
            "\u001b[2K   \u001b[90m━━━━━━━━━━━━━━━━━━━━━━━━━━━━━━━━━━━━━━━━\u001b[0m \u001b[32m21.1/21.1 MB\u001b[0m \u001b[31m88.7 MB/s\u001b[0m eta \u001b[36m0:00:00\u001b[0m\n",
            "\u001b[?25hInstalling collected packages: nvidia-nvjitlink-cu12, nvidia-curand-cu12, nvidia-cufft-cu12, nvidia-cuda-runtime-cu12, nvidia-cuda-nvrtc-cu12, nvidia-cuda-cupti-cu12, nvidia-cublas-cu12, lightning-utilities, nvidia-cusparse-cu12, nvidia-cudnn-cu12, nvidia-cusolver-cu12, torchmetrics\n",
            "  Attempting uninstall: nvidia-nvjitlink-cu12\n",
            "    Found existing installation: nvidia-nvjitlink-cu12 12.5.82\n",
            "    Uninstalling nvidia-nvjitlink-cu12-12.5.82:\n",
            "      Successfully uninstalled nvidia-nvjitlink-cu12-12.5.82\n",
            "  Attempting uninstall: nvidia-curand-cu12\n",
            "    Found existing installation: nvidia-curand-cu12 10.3.6.82\n",
            "    Uninstalling nvidia-curand-cu12-10.3.6.82:\n",
            "      Successfully uninstalled nvidia-curand-cu12-10.3.6.82\n",
            "  Attempting uninstall: nvidia-cufft-cu12\n",
            "    Found existing installation: nvidia-cufft-cu12 11.2.3.61\n",
            "    Uninstalling nvidia-cufft-cu12-11.2.3.61:\n",
            "      Successfully uninstalled nvidia-cufft-cu12-11.2.3.61\n",
            "  Attempting uninstall: nvidia-cuda-runtime-cu12\n",
            "    Found existing installation: nvidia-cuda-runtime-cu12 12.5.82\n",
            "    Uninstalling nvidia-cuda-runtime-cu12-12.5.82:\n",
            "      Successfully uninstalled nvidia-cuda-runtime-cu12-12.5.82\n",
            "  Attempting uninstall: nvidia-cuda-nvrtc-cu12\n",
            "    Found existing installation: nvidia-cuda-nvrtc-cu12 12.5.82\n",
            "    Uninstalling nvidia-cuda-nvrtc-cu12-12.5.82:\n",
            "      Successfully uninstalled nvidia-cuda-nvrtc-cu12-12.5.82\n",
            "  Attempting uninstall: nvidia-cuda-cupti-cu12\n",
            "    Found existing installation: nvidia-cuda-cupti-cu12 12.5.82\n",
            "    Uninstalling nvidia-cuda-cupti-cu12-12.5.82:\n",
            "      Successfully uninstalled nvidia-cuda-cupti-cu12-12.5.82\n",
            "  Attempting uninstall: nvidia-cublas-cu12\n",
            "    Found existing installation: nvidia-cublas-cu12 12.5.3.2\n",
            "    Uninstalling nvidia-cublas-cu12-12.5.3.2:\n",
            "      Successfully uninstalled nvidia-cublas-cu12-12.5.3.2\n",
            "  Attempting uninstall: nvidia-cusparse-cu12\n",
            "    Found existing installation: nvidia-cusparse-cu12 12.5.1.3\n",
            "    Uninstalling nvidia-cusparse-cu12-12.5.1.3:\n",
            "      Successfully uninstalled nvidia-cusparse-cu12-12.5.1.3\n",
            "  Attempting uninstall: nvidia-cudnn-cu12\n",
            "    Found existing installation: nvidia-cudnn-cu12 9.3.0.75\n",
            "    Uninstalling nvidia-cudnn-cu12-9.3.0.75:\n",
            "      Successfully uninstalled nvidia-cudnn-cu12-9.3.0.75\n",
            "  Attempting uninstall: nvidia-cusolver-cu12\n",
            "    Found existing installation: nvidia-cusolver-cu12 11.6.3.83\n",
            "    Uninstalling nvidia-cusolver-cu12-11.6.3.83:\n",
            "      Successfully uninstalled nvidia-cusolver-cu12-11.6.3.83\n",
            "Successfully installed lightning-utilities-0.14.2 nvidia-cublas-cu12-12.4.5.8 nvidia-cuda-cupti-cu12-12.4.127 nvidia-cuda-nvrtc-cu12-12.4.127 nvidia-cuda-runtime-cu12-12.4.127 nvidia-cudnn-cu12-9.1.0.70 nvidia-cufft-cu12-11.2.1.3 nvidia-curand-cu12-10.3.5.147 nvidia-cusolver-cu12-11.6.1.9 nvidia-cusparse-cu12-12.3.1.170 nvidia-nvjitlink-cu12-12.4.127 torchmetrics-1.7.0\n"
          ]
        }
      ],
      "source": [
        "!pip install torchmetrics"
      ]
    },
    {
      "cell_type": "code",
      "execution_count": null,
      "metadata": {
        "id": "WvyBoe94rICo"
      },
      "outputs": [],
      "source": [
        "import torch\n",
        "import torch.nn as nn\n",
        "import matplotlib.pyplot as plt\n",
        "from torch.utils.data import DataLoader\n",
        "from torchvision import datasets, transforms\n",
        "from torchmetrics.classification import Accuracy\n",
        "from torchvision.models import resnet50, ResNet50_Weights, vgg16, VGG16_Weights\n",
        "from tqdm import tqdm"
      ]
    },
    {
      "cell_type": "code",
      "execution_count": null,
      "metadata": {
        "id": "tz_NcLjEr7TR",
        "colab": {
          "base_uri": "https://localhost:8080/"
        },
        "outputId": "c9173ed5-a2a6-4f4a-a1df-14600e9f7445"
      },
      "outputs": [
        {
          "output_type": "stream",
          "name": "stdout",
          "text": [
            "cuda\n"
          ]
        }
      ],
      "source": [
        "device = torch.device('cuda' if torch.cuda.is_available() else 'cpu')\n",
        "print(device)"
      ]
    },
    {
      "cell_type": "code",
      "execution_count": null,
      "metadata": {
        "id": "rhFBjZ0ZsATj"
      },
      "outputs": [],
      "source": [
        "EPOCHS = 5\n",
        "BATCH_SIZE = 64\n",
        "LEARNING_RATE = 0.0001\n",
        "NUM_CLASSES = 10"
      ]
    },
    {
      "cell_type": "code",
      "execution_count": null,
      "metadata": {
        "id": "W0h-ONwLrvHM"
      },
      "outputs": [],
      "source": [
        "def load_data(T, batch_size):\n",
        "  train_data = datasets.CIFAR10(root='./data', train=True, download=True, transform=T)\n",
        "  train_loader = DataLoader(train_data, batch_size=batch_size, shuffle=True)\n",
        "\n",
        "  test_data = datasets.CIFAR10(root='./data', train=False, download=True, transform=T)\n",
        "  test_loader = DataLoader(test_data, batch_size=batch_size, shuffle=False)\n",
        "\n",
        "  return train_loader, test_loader"
      ]
    },
    {
      "cell_type": "code",
      "execution_count": null,
      "metadata": {
        "id": "RegnwjvarUWX"
      },
      "outputs": [],
      "source": [
        "def plot_results(train_losses, test_losses, test_accuracies):\n",
        "  \"\"\"\n",
        "  Plot the train and test losses and accuracy values over a number of epochs.\n",
        "  \"\"\"\n",
        "  fig, ax = plt.subplots(1, 2, figsize=(9, 3))\n",
        "\n",
        "  ax[0].plot(train_losses, label='Train Loss')\n",
        "  ax[0].plot(test_losses, label='Test Loss', color='red')\n",
        "  ax[0].legend()\n",
        "  ax[1].plot([value for value in test_accuracies], label='Test Accuracy', color='green')\n",
        "\n",
        "  ax[0].set_title('Train / Test Loss')\n",
        "  ax[1].set_title('Test Accuracy')\n",
        "\n",
        "  plt.show()"
      ]
    },
    {
      "cell_type": "markdown",
      "metadata": {
        "id": "3F3qoAtu6Qsj"
      },
      "source": [
        "# Training and Evaluation Functions:\n",
        "- `train_epoch`\n",
        "- `eval_model`\n",
        "- `run_experiment`\n",
        "- `SimpleCNN`\n",
        "- `ResNet50Transfer`\n",
        "- `VGGTransfer`\n"
      ]
    },
    {
      "cell_type": "markdown",
      "metadata": {
        "id": "zCKsMz9UzaCo"
      },
      "source": [
        "In the following functions, you are training and evaluating the model for just one epoch (One full pass through the dataset). Complete the `train_epoch` and `eval_model` functions."
      ]
    },
    {
      "cell_type": "code",
      "execution_count": null,
      "metadata": {
        "id": "LUEIwHDsrj3K"
      },
      "outputs": [],
      "source": [
        "def train_epoch(model, train_loader, optimizer, criterion, device):\n",
        "  \"\"\"\n",
        "  Train the model for one epoch.\n",
        "\n",
        "  args:\n",
        "    model: torch.nn.Module, the model to train\n",
        "    train_loader: torch.utils.data.DataLoader, the dataloader for the training set\n",
        "    optimizer: torch.optim.Optimizer, the optimizer to use\n",
        "    criterion: torch.nn.Module, the loss function to use\n",
        "    device: torch.device\n",
        "\n",
        "  returns:\n",
        "    train_loss: float, the average loss over the training set for this epoch\n",
        "  \"\"\"\n",
        "  running_loss = 0.0\n",
        "  # set the model to training e.g. enable dropouts\n",
        "  model.train()\n",
        "\n",
        "  # Iterate through the batch of samples in the train set\n",
        "  for inputs, targets in tqdm(train_loader):\n",
        "\n",
        "    # zero the previously calculated gradients\n",
        "    optimizer.zero_grad()\n",
        "\n",
        "    # make predictions\n",
        "    inputs, targets = inputs.to(device), targets.to(device)\n",
        "    outputs = model(inputs)\n",
        "\n",
        "    # calculate the loss\n",
        "    loss = criterion(outputs, targets)\n",
        "\n",
        "    # calculate the gradient of the loss\n",
        "    loss.backward()\n",
        "\n",
        "    # adjust the model parameters based on the gradient\n",
        "    optimizer.step()\n",
        "\n",
        "    # keep track of the loss, multiply by the batch size\n",
        "    running_loss += loss.item() * inputs.size(0)\n",
        "\n",
        "  # return the average of the loss over all of the batches\n",
        "  return running_loss / len(train_loader.dataset)\n",
        "\n",
        "def eval_model(model, test_loader, criterion, acc, device):\n",
        "\n",
        "  \"\"\"\n",
        "  Evaluate the model on the test set.\n",
        "\n",
        "  args:\n",
        "    model: torch.nn.Module, the model to evaluate\n",
        "    test_loader: torch.utils.data.DataLoader, the dataloader for the test set\n",
        "    criterion: torch.nn.Module, the loss function to use\n",
        "    acc: torchmetrics.Accuracy, the accuracy metric object\n",
        "    device: torch.device\n",
        "\n",
        "  returns:\n",
        "    test_loss: float, the average loss over the test set\n",
        "    test_acc: float, the accuracy over the test set\n",
        "  \"\"\"\n",
        "\n",
        "  running_loss = 0.0\n",
        "  # set the model to eval mode e.g. disable dropouts\n",
        "  model.eval()\n",
        "\n",
        "  # reset the calculated accuracy object\n",
        "  acc.reset()\n",
        "\n",
        "  # make sure the following does not affect the gradient calculation\n",
        "  with torch.no_grad():\n",
        "    # Iterate through the batch of samples in the test set\n",
        "    for inputs, targets in tqdm(test_loader):\n",
        "      # make predictions\n",
        "      inputs, targets = inputs.to(device), targets.to(device)\n",
        "      outputs = model(inputs)\n",
        "\n",
        "      # calculate the loss\n",
        "      loss = criterion(outputs, targets)\n",
        "\n",
        "      # keep track of the loss, multiply by the batch size\n",
        "      running_loss += loss.item() * inputs.size(0)\n",
        "\n",
        "      # update the overall accuracy by including the accuracy of this batch\n",
        "      acc.update(outputs, targets)\n",
        "\n",
        "  # return:\n",
        "    # the average loss over the test set\n",
        "    # the accuracy over the test set\n",
        "  return running_loss / len(test_loader.dataset), acc.compute()\n"
      ]
    },
    {
      "cell_type": "markdown",
      "metadata": {
        "id": "MhLDqkJ71V_z"
      },
      "source": [
        "In the following function you will use the previous function to train the model over a number of epochs. Complete the `run_experiment` function."
      ]
    },
    {
      "cell_type": "code",
      "execution_count": null,
      "metadata": {
        "id": "QDk_1Cy4rn-f"
      },
      "outputs": [],
      "source": [
        "def run_experiment(model, train_loader, test_loader, optimizer, criterion, device, epochs=10):\n",
        "  \"\"\"\n",
        "  Run the experiment for a given number of epochs.\n",
        "\n",
        "  args:\n",
        "    model: torch.nn.Module, the model to train\n",
        "    train_loader: torch.utils.data.DataLoader, the dataloader for the training set\n",
        "    test_loader: torch.utils.data.DataLoader, the dataloader for the test set\n",
        "    optimizer: torch.optim.Optimizer, the optimizer to use\n",
        "    criterion: torch.nn.Module, the loss function to use\n",
        "    device: torch.device\n",
        "    epochs: int, the number of epochs to train for\n",
        "\n",
        "  returns:\n",
        "    train_losses: list of floats, the train loss for each epoch\n",
        "    test_losses: list of floats, the test loss for each epoch\n",
        "    accuracies: list of floats, the test accuracy for each epoch\n",
        "  \"\"\"\n",
        "  train_losses = []\n",
        "  test_losses = []\n",
        "  accuracies = []\n",
        "\n",
        "  # Initialize the accuracy object\n",
        "  acc = Accuracy('multiclass', num_classes = NUM_CLASSES).to(device)\n",
        "\n",
        "  # Interate through the number of epochs\n",
        "  for epoch in range(epochs):\n",
        "    print(f\"Epoch {epoch+1}/{epochs}\")\n",
        "\n",
        "    # Train the model (using the `train_epoch` function)\n",
        "    train_loss = train_epoch(model, train_loader, optimizer, criterion, device)\n",
        "\n",
        "    # Keep track of the training loss for this epoch\n",
        "    train_losses.append(train_loss)\n",
        "\n",
        "    # Evaluate the model (using the `eval_model` function)\n",
        "    test_loss, accuracy = eval_model(model, test_loader, criterion, acc, device)\n",
        "\n",
        "    # Keep track of the testing loss and the testing accuracy for this epoch\n",
        "    test_losses.append(test_loss)\n",
        "    # Convert tesnor to cpu and extract, this was done cuz collab was throwing an error\n",
        "    accuracies.append(accuracy.cpu().item())\n",
        "\n",
        "    # Print the loss and accuracy values for this epoch\n",
        "    print(f\"Train Loss: {train_loss:.4f}, Test Loss: {test_loss:.4f}, Test Accuracy: {accuracy:.4f}\")\n",
        "\n",
        "  print(\"Finished training.\")\n",
        "\n",
        "  # return:\n",
        "    # train_losses: list of floats, the train loss for each epoch\n",
        "    # test_losses: list of floats, the test loss for each epoch\n",
        "    # accuracies: list of floats, the test accuracy for each epoch\n",
        "  return train_losses, test_losses, accuracies"
      ]
    },
    {
      "cell_type": "code",
      "execution_count": null,
      "metadata": {
        "id": "nKRXfSc874Fq"
      },
      "outputs": [],
      "source": [
        "class SimpleCNN(nn.Module):\n",
        "  def __init__(self, num_classes=10):\n",
        "    super().__init__()\n",
        "\n",
        "    # Note I know nn methods will be accept with no named parameters, but wrote some in for clarity and possible error checking\n",
        "    # Using nn.Sequential to group the layers together\n",
        "\n",
        "    # Convolution(3x3 kernel) channels: 3 -> 32\n",
        "    # ReLU\n",
        "    # Max pooling (2x2)\n",
        "    self.conv1 = nn.Sequential(nn.Conv2d(3, 32, kernel_size = 3, padding = 1), nn.ReLU(), nn.MaxPool2d(kernel_size = 2, stride = 2))\n",
        "\n",
        "    # Convolution(3x3 kernel) channels: 32 -> 64\n",
        "    # ReLU\n",
        "    # Max pooling (2x2)\n",
        "    self.conv2 = nn.Sequential(nn.Conv2d(32, 64, kernel_size = 3, padding = 1), nn.ReLU(), nn.MaxPool2d(kernel_size = 2, stride = 2))\n",
        "\n",
        "    # Convolution(3x3 kernel) channels: 64 -> 128\n",
        "    # ReLU\n",
        "    # Max pooling (2x2)\n",
        "    self.conv3 = nn.Sequential(nn.Conv2d(64, 128, kernel_size = 3, padding = 1), nn.ReLU(), nn.MaxPool2d(kernel_size = 2, stride = 2))\n",
        "\n",
        "    # Linear 512 hidden_dim\n",
        "    # ReLU\n",
        "    # Linear output -> num_classes\n",
        "    # After 3 max pooling operations, 32x32 -> 4x4\n",
        "    self.fc = nn.Sequential(nn.Flatten(), nn.Linear(128*4*4, 512), nn.ReLU(), nn.Linear(512, num_classes))\n",
        "\n",
        "    pass\n",
        "\n",
        "  def forward(self, x):\n",
        "    # All we have to do is pass the input through the layers in order\n",
        "    x = self.conv1(x)\n",
        "    x = self.conv2(x)\n",
        "    x = self.conv3(x)\n",
        "    x = self.fc(x)\n",
        "    return x"
      ]
    },
    {
      "cell_type": "code",
      "execution_count": null,
      "metadata": {
        "id": "vTLYSkq20oDz"
      },
      "outputs": [],
      "source": [
        "class ResNet50Transfer(nn.Module):\n",
        "  def __init__(self, num_classes=10):\n",
        "    super().__init__()\n",
        "\n",
        "    # Initialize Resnet 50 with the default weights\n",
        "    self.resnet = resnet50(weights = ResNet50_Weights.DEFAULT)\n",
        "\n",
        "    # Freeze the resnet weights\n",
        "    for param in self.resnet.parameters():\n",
        "      param.requires_grad = False\n",
        "\n",
        "    # replace the last fully connected layers with the following:\n",
        "      # Linear 256 hidden_dim\n",
        "      # ReLU\n",
        "      # Linear output -> num_classes\n",
        "\n",
        "      # ResNet50 always has 2048 features at the end of the backbone\n",
        "      in_features = 2048\n",
        "\n",
        "      self.resnet.fc = nn.Sequential(nn.Linear(in_features, 256), nn.ReLU(), nn.Linear(256, num_classes))\n",
        "\n",
        "\n",
        "  def forward(self, x):\n",
        "    return self.resnet(x)"
      ]
    },
    {
      "cell_type": "code",
      "execution_count": null,
      "metadata": {
        "id": "gCF0z7C0rp0-"
      },
      "outputs": [],
      "source": [
        "class VGGTransfer(nn.Module):\n",
        "  def __init__(self, num_classes=10):\n",
        "    super().__init__()\n",
        "\n",
        "    # Initialize VGG16 with the default weights\n",
        "    self.vgg = vgg16(weights = VGG16_Weights.DEFAULT)\n",
        "\n",
        "    # Freeze the feature weights\n",
        "    for param in self.vgg.features.parameters():\n",
        "      param.requires_grad = False\n",
        "\n",
        "    # Replace the classifier with the following:\n",
        "    # Linear 256 hidden_dim\n",
        "    # ReLU\n",
        "    # Linear output -> num_classes\n",
        "    # VGG16 features output is 512x7x7\n",
        "    self.vgg.classifier = nn.Sequential(nn.Flatten(), nn.Linear(512 * 7 * 7, 256), nn.ReLU(), nn.Linear(256, num_classes))\n",
        "\n",
        "  def forward(self, x):\n",
        "    x = self.vgg.features(x)\n",
        "    x = self.vgg.classifier(x)\n",
        "    return x"
      ]
    },
    {
      "cell_type": "markdown",
      "metadata": {
        "id": "snkOINeA7EFA"
      },
      "source": [
        "# Experiment 1: Custom CNN (SimpleCNN) on CIFAR-10\n",
        "- Train and evaluate the `SimpleCNN` model on the CIFAR-10 dataset (for 5 epochs minimum).\n",
        "- Plot the train and test loss, as well as the test accuracy.\n",
        "- Analyze and report the results. Provide reasoning for your analysis."
      ]
    },
    {
      "cell_type": "code",
      "execution_count": null,
      "metadata": {
        "id": "rpSn6YBF8L8s",
        "colab": {
          "base_uri": "https://localhost:8080/"
        },
        "outputId": "4ad09623-da3b-4058-c179-df3206b7b83c"
      },
      "outputs": [
        {
          "output_type": "stream",
          "name": "stdout",
          "text": [
            "Epoch 1/5\n"
          ]
        },
        {
          "output_type": "stream",
          "name": "stderr",
          "text": [
            "100%|██████████| 782/782 [00:18<00:00, 43.43it/s]\n",
            "100%|██████████| 157/157 [00:02<00:00, 56.89it/s]\n"
          ]
        },
        {
          "output_type": "stream",
          "name": "stdout",
          "text": [
            "Train Loss: 1.6788, Test Loss: 1.4262, Test Accuracy: 0.4860\n",
            "Epoch 2/5\n"
          ]
        },
        {
          "output_type": "stream",
          "name": "stderr",
          "text": [
            "100%|██████████| 782/782 [00:17<00:00, 44.91it/s]\n",
            "100%|██████████| 157/157 [00:03<00:00, 42.07it/s]\n"
          ]
        },
        {
          "output_type": "stream",
          "name": "stdout",
          "text": [
            "Train Loss: 1.3720, Test Loss: 1.2908, Test Accuracy: 0.5384\n",
            "Epoch 3/5\n"
          ]
        },
        {
          "output_type": "stream",
          "name": "stderr",
          "text": [
            "100%|██████████| 782/782 [00:17<00:00, 43.87it/s]\n",
            "100%|██████████| 157/157 [00:02<00:00, 55.16it/s]\n"
          ]
        },
        {
          "output_type": "stream",
          "name": "stdout",
          "text": [
            "Train Loss: 1.2617, Test Loss: 1.2188, Test Accuracy: 0.5666\n",
            "Epoch 4/5\n"
          ]
        },
        {
          "output_type": "stream",
          "name": "stderr",
          "text": [
            "100%|██████████| 782/782 [00:17<00:00, 43.81it/s]\n",
            "100%|██████████| 157/157 [00:02<00:00, 56.18it/s]\n"
          ]
        },
        {
          "output_type": "stream",
          "name": "stdout",
          "text": [
            "Train Loss: 1.1739, Test Loss: 1.1363, Test Accuracy: 0.5974\n",
            "Epoch 5/5\n"
          ]
        },
        {
          "output_type": "stream",
          "name": "stderr",
          "text": [
            "100%|██████████| 782/782 [00:17<00:00, 45.30it/s]\n",
            "100%|██████████| 157/157 [00:03<00:00, 43.83it/s]"
          ]
        },
        {
          "output_type": "stream",
          "name": "stdout",
          "text": [
            "Train Loss: 1.0980, Test Loss: 1.1123, Test Accuracy: 0.6079\n",
            "Finished training.\n"
          ]
        },
        {
          "output_type": "stream",
          "name": "stderr",
          "text": [
            "\n"
          ]
        }
      ],
      "source": [
        "T = transforms.Compose([\n",
        "  transforms.ToTensor(),\n",
        "  transforms.Normalize((0.5, 0.5, 0.5), (0.5, 0.5, 0.5))\n",
        "])\n",
        "\n",
        "train_loader, test_loader = load_data(T, BATCH_SIZE)\n",
        "simple_cnn = SimpleCNN(NUM_CLASSES).to(device)\n",
        "optimizer = torch.optim.Adam(simple_cnn.parameters(), lr=LEARNING_RATE)\n",
        "criterion = nn.CrossEntropyLoss()\n",
        "\n",
        "train_losses, test_losses, accuracies = run_experiment(simple_cnn, train_loader, test_loader, optimizer, criterion, device, EPOCHS)"
      ]
    },
    {
      "cell_type": "code",
      "execution_count": null,
      "metadata": {
        "id": "sGk5KidK8RN5",
        "colab": {
          "base_uri": "https://localhost:8080/",
          "height": 314
        },
        "outputId": "43fc1fad-44c2-473b-e36c-01bd5f1bbce8"
      },
      "outputs": [
        {
          "output_type": "display_data",
          "data": {
            "text/plain": [
              "<Figure size 900x300 with 2 Axes>"
            ],
            "image/png": "[encoded data removed]"
          },
          "metadata": {}
        }
      ],
      "source": [
        "plot_results(train_losses, test_losses, accuracies)"
      ]
    },
    {
      "cell_type": "markdown",
      "source": [
        "# Analysis of SimpleCNN Results\n",
        "\n",
        "Looking at the graphs, I can see our SimpleCNN model gradually improved on the CIFAR-10 dataset over the 5 training epochs.\n",
        "\n",
        "## Loss Trends\n",
        "- Training loss (blue) starts around 1.7 and decreases steadily\n",
        "- Test loss (red) begins at a lower value of about 1.45\n",
        "- Both curves converge to around 1.1 by epoch 5, showing the model isn't overfitting\n",
        "\n",
        "## Accuracy Progress\n",
        "- Test accuracy climbs from about 48.5% to 60%\n",
        "- The curve is still going up at epoch 5, so more training could help\n",
        "- 60% accuracy is decent for such a simple network on CIFAR-10's 10 classes\n",
        "\n",
        "## What This Tells Us\n",
        "The model is learning meaningful features with its convolutional layers, as we see in lecture 14. Each layer is extracting more complex pattern, from simple edges in early layers to more complex shapes in later ones. The max pooling layers help with translation invariance while reducing dimensionality.\n",
        "\n",
        "The fact that training and test performance are closely aligned suggests the model is generalizing well rather than overfitting. Since accuracy is still improving after five epochs, it’s likely that training for longer or using a deeper network like the transfer learning models we’ll explore next could push performance even further."
      ],
      "metadata": {
        "id": "yit_wqr68Zqx"
      }
    },
    {
      "cell_type": "markdown",
      "metadata": {
        "id": "9vukI4spGsJl"
      },
      "source": [
        "# Experiment 2: Transfer Learning with ResNet50\n",
        "- Train and evaluate the `ResNet50_Weights` model on the CIFAR-10 dataset (for 5 epochs minimum).\n",
        "- Plot the train and test loss, as well as the test accuracy.\n",
        "- Analyze and report the results. Provide reasoning for your analysis. Make comparisons to the previous experiments when appropriate."
      ]
    },
    {
      "cell_type": "code",
      "execution_count": null,
      "metadata": {
        "id": "bsAPC2s5060V",
        "colab": {
          "base_uri": "https://localhost:8080/"
        },
        "outputId": "382b233d-b504-47bd-e28f-a2352d6d8fa4"
      },
      "outputs": [
        {
          "output_type": "stream",
          "name": "stdout",
          "text": [
            "Epoch 1/5\n"
          ]
        },
        {
          "output_type": "stream",
          "name": "stderr",
          "text": [
            "100%|██████████| 782/782 [04:18<00:00,  3.03it/s]\n",
            "100%|██████████| 157/157 [00:51<00:00,  3.07it/s]\n"
          ]
        },
        {
          "output_type": "stream",
          "name": "stdout",
          "text": [
            "Train Loss: 1.0428, Test Loss: 0.7095, Test Accuracy: 0.7697\n",
            "Epoch 2/5\n"
          ]
        },
        {
          "output_type": "stream",
          "name": "stderr",
          "text": [
            "100%|██████████| 782/782 [04:28<00:00,  2.92it/s]\n",
            "100%|██████████| 157/157 [00:52<00:00,  3.01it/s]\n"
          ]
        },
        {
          "output_type": "stream",
          "name": "stdout",
          "text": [
            "Train Loss: 0.6688, Test Loss: 0.6247, Test Accuracy: 0.7872\n",
            "Epoch 3/5\n"
          ]
        },
        {
          "output_type": "stream",
          "name": "stderr",
          "text": [
            "100%|██████████| 782/782 [04:33<00:00,  2.86it/s]\n",
            "100%|██████████| 157/157 [00:52<00:00,  2.99it/s]\n"
          ]
        },
        {
          "output_type": "stream",
          "name": "stdout",
          "text": [
            "Train Loss: 0.6060, Test Loss: 0.5958, Test Accuracy: 0.7956\n",
            "Epoch 4/5\n"
          ]
        },
        {
          "output_type": "stream",
          "name": "stderr",
          "text": [
            "100%|██████████| 782/782 [04:36<00:00,  2.83it/s]\n",
            "100%|██████████| 157/157 [00:52<00:00,  2.96it/s]\n"
          ]
        },
        {
          "output_type": "stream",
          "name": "stdout",
          "text": [
            "Train Loss: 0.5675, Test Loss: 0.5682, Test Accuracy: 0.8032\n",
            "Epoch 5/5\n"
          ]
        },
        {
          "output_type": "stream",
          "name": "stderr",
          "text": [
            "100%|██████████| 782/782 [04:34<00:00,  2.85it/s]\n",
            "100%|██████████| 157/157 [00:51<00:00,  3.07it/s]"
          ]
        },
        {
          "output_type": "stream",
          "name": "stdout",
          "text": [
            "Train Loss: 0.5405, Test Loss: 0.5643, Test Accuracy: 0.8070\n",
            "Finished training.\n"
          ]
        },
        {
          "output_type": "stream",
          "name": "stderr",
          "text": [
            "\n"
          ]
        }
      ],
      "source": [
        "T = ResNet50_Weights.DEFAULT.transforms()\n",
        "train_loader, test_loader = load_data(T, BATCH_SIZE)\n",
        "\n",
        "resnet_transfer = ResNet50Transfer(NUM_CLASSES).to(device)\n",
        "optimizer = torch.optim.Adam(resnet_transfer.parameters(), lr=LEARNING_RATE)\n",
        "criterion = nn.CrossEntropyLoss()\n",
        "\n",
        "train_losses, test_losses, accuracies = run_experiment(resnet_transfer, train_loader, test_loader, optimizer, criterion, device, EPOCHS)"
      ]
    },
    {
      "cell_type": "code",
      "execution_count": null,
      "metadata": {
        "id": "g3jRsgSQ1GR4",
        "colab": {
          "base_uri": "https://localhost:8080/",
          "height": 314
        },
        "outputId": "99710832-3ddf-4770-b0f3-2c6685a7d768"
      },
      "outputs": [
        {
          "output_type": "display_data",
          "data": {
            "text/plain": [
              "<Figure size 900x300 with 2 Axes>"
            ],
            "image/png": "[encoded data removed]"
          },
          "metadata": {}
        }
      ],
      "source": [
        "plot_results(train_losses, test_losses, accuracies)"
      ]
    },
    {
      "cell_type": "markdown",
      "source": [
        "# Analysis of ResNet50Transfer Results\n",
        "\n",
        "Looking at the graphs, I can see the ResNet50 transfer learning model performs much better than our SimpleCNN on the CIFAR-10 dataset.\n",
        "\n",
        "## Loss Trends\n",
        "- Training loss starts around 1.05 and drops quickly, while test loss begins at about 0.72\n",
        "- Both curves steadily decrease and nearly meet around 0.55-0.57 by epoch 4\n",
        "- The loss curves flatten out faster than what we saw with SimpleCNN\n",
        "\n",
        "## Accuracy Progress\n",
        "- Test accuracy starts impressively high at about 77% (compared to SimpleCNN's 48.5%)\n",
        "- By epoch 5, accuracy reaches around 81%, way better than SimpleCNN's 60%\n",
        "- The curve is still going up, suggesting more training could help even more\n",
        "\n",
        "## What This Tells Us\n",
        "The dramatic improvement shows the power of transfer learning we studied in lecture 17. By using the pre-trained ResNet50 backbone (trained on ImageNet) and only training a new classifier head, we're leveraging all the feature extraction capabilities the model already learned.\n",
        "\n",
        "The high starting accuracy (77%) proves how effective transfer learning is, the model already \"knows\" how to identify basic and complex patterns from its previous training. This explains the huge jump in performance compared to our simple CNN, even though we're only training the final layers."
      ],
      "metadata": {
        "id": "AvXCreUEF-cd"
      }
    },
    {
      "cell_type": "markdown",
      "metadata": {
        "id": "-kTcf1GbHKl3"
      },
      "source": [
        "#  Experiment 3: Transfer Learning with VGG16\n",
        "- Train and evaluate the `VGGTransfer` model on the CIFAR-10 dataset (for 5 epochs minimum).\n",
        "- Plot the train and test loss, as well as the test accuracy.\n",
        "- Analyze and report the results. Provide reasoning for your analysis. Make comparisons to the previous experiments when appropriate."
      ]
    },
    {
      "cell_type": "markdown",
      "source": [],
      "metadata": {
        "id": "iQkMV2zHF9h0"
      }
    },
    {
      "cell_type": "code",
      "execution_count": null,
      "metadata": {
        "id": "R-d40tEzuYv0",
        "colab": {
          "base_uri": "https://localhost:8080/"
        },
        "outputId": "6bf1c603-60d6-463e-8839-a818f01f2251"
      },
      "outputs": [
        {
          "output_type": "stream",
          "name": "stderr",
          "text": [
            "Downloading: \"https://download.pytorch.org/models/vgg16-397923af.pth\" to /root/.cache/torch/hub/checkpoints/vgg16-397923af.pth\n",
            "100%|██████████| 528M/528M [00:06<00:00, 83.0MB/s]\n"
          ]
        },
        {
          "output_type": "stream",
          "name": "stdout",
          "text": [
            "Epoch 1/5\n"
          ]
        },
        {
          "output_type": "stream",
          "name": "stderr",
          "text": [
            "100%|██████████| 782/782 [06:05<00:00,  2.14it/s]\n",
            "100%|██████████| 157/157 [01:13<00:00,  2.13it/s]\n"
          ]
        },
        {
          "output_type": "stream",
          "name": "stdout",
          "text": [
            "Train Loss: 0.4802, Test Loss: 0.4119, Test Accuracy: 0.8586\n",
            "Epoch 2/5\n"
          ]
        },
        {
          "output_type": "stream",
          "name": "stderr",
          "text": [
            "100%|██████████| 782/782 [06:06<00:00,  2.14it/s]\n",
            "100%|██████████| 157/157 [01:12<00:00,  2.17it/s]\n"
          ]
        },
        {
          "output_type": "stream",
          "name": "stdout",
          "text": [
            "Train Loss: 0.2065, Test Loss: 0.4174, Test Accuracy: 0.8591\n",
            "Epoch 3/5\n"
          ]
        },
        {
          "output_type": "stream",
          "name": "stderr",
          "text": [
            "100%|██████████| 782/782 [06:04<00:00,  2.15it/s]\n",
            "100%|██████████| 157/157 [01:12<00:00,  2.16it/s]\n"
          ]
        },
        {
          "output_type": "stream",
          "name": "stdout",
          "text": [
            "Train Loss: 0.1043, Test Loss: 0.4172, Test Accuracy: 0.8653\n",
            "Epoch 4/5\n"
          ]
        },
        {
          "output_type": "stream",
          "name": "stderr",
          "text": [
            "100%|██████████| 782/782 [06:05<00:00,  2.14it/s]\n",
            "100%|██████████| 157/157 [01:12<00:00,  2.16it/s]\n"
          ]
        },
        {
          "output_type": "stream",
          "name": "stdout",
          "text": [
            "Train Loss: 0.0503, Test Loss: 0.4650, Test Accuracy: 0.8625\n",
            "Epoch 5/5\n"
          ]
        },
        {
          "output_type": "stream",
          "name": "stderr",
          "text": [
            "100%|██████████| 782/782 [06:03<00:00,  2.15it/s]\n",
            "100%|██████████| 157/157 [01:12<00:00,  2.17it/s]"
          ]
        },
        {
          "output_type": "stream",
          "name": "stdout",
          "text": [
            "Train Loss: 0.0235, Test Loss: 0.4950, Test Accuracy: 0.8633\n",
            "Finished training.\n"
          ]
        },
        {
          "output_type": "stream",
          "name": "stderr",
          "text": [
            "\n"
          ]
        }
      ],
      "source": [
        "T = VGG16_Weights.DEFAULT.transforms()\n",
        "train_loader, test_loader = load_data(T, BATCH_SIZE)\n",
        "\n",
        "vgg_transfer = VGGTransfer(NUM_CLASSES).to(device)\n",
        "optimizer = torch.optim.Adam(vgg_transfer.parameters(), lr=LEARNING_RATE)\n",
        "criterion = nn.CrossEntropyLoss()\n",
        "\n",
        "train_losses, test_losses, accuracies = run_experiment(vgg_transfer, train_loader, test_loader, optimizer, criterion, device, EPOCHS)"
      ]
    },
    {
      "cell_type": "code",
      "execution_count": null,
      "metadata": {
        "id": "rQpOCgdZunkr",
        "colab": {
          "base_uri": "https://localhost:8080/",
          "height": 314
        },
        "outputId": "252b04a0-7f42-4980-feda-ebd675dac589"
      },
      "outputs": [
        {
          "output_type": "display_data",
          "data": {
            "text/plain": [
              "<Figure size 900x300 with 2 Axes>"
            ],
            "image/png": "[encoded data removed]"
          },
          "metadata": {}
        }
      ],
      "source": [
        "plot_results(train_losses, test_losses, accuracies)"
      ]
    },
    {
      "cell_type": "markdown",
      "source": [
        "# Analysis of VGGTransfer Results\n",
        "\n",
        "Looking at the graphs, I can see the VGG16 transfer learning model behaves quite differently from our previous models on the CIFAR-10 dataset.\n",
        "\n",
        "## Loss Trends\n",
        "- Training loss (blue) starts around 0.48 and plummets dramatically to nearly 0 by epoch 4\n",
        "- Test loss (red) starts at about 0.45, remains flat, then unexpectedly increases to around 0.5\n",
        "- The growing gap between train and test loss is a classic sign of overfitting\n",
        "\n",
        "## Accuracy Progress\n",
        "- Test accuracy starts impressively high at about 85.85% (much higher than both previous models)\n",
        "- Peaks at epoch 2 with approximately 86.5% accuracy\n",
        "- Then surprisingly decreases and fluctuates around 86.3% by epoch 5\n",
        "\n",
        "## What This Tells Us\n",
        "The VGG16 model demonstrates both the benefits and pitfalls of transfer learning that we learned in lectures 17 and 18. While it achieves the highest overall accuracy of our three models, it shows clear signs of overfitting - the model is essentially memorizing the training data (near-zero training loss) rather than learning generalizable features.\n",
        "\n",
        "Compared to ResNet50 (81% accuracy) and SimpleCNN (60% accuracy), VGG16 delivers superior classification performance at around 86.5%. However, the decreasing accuracy after epoch 2 suggests we should implement early stopping or stronger regularization techniques. This behavior illustrates why monitoring validation metrics during training is crucial - more training doesn't always mean better performance."
      ],
      "metadata": {
        "id": "Ljjz61xERiHT"
      }
    }
  ],
  "metadata": {
    "accelerator": "GPU",
    "colab": {
      "gpuType": "T4",
      "provenance": [],
      "collapsed_sections": [
        "dOwMz8P4u8xf"
      ]
    },
    "kernelspec": {
      "display_name": "Python 3",
      "name": "python3"
    },
    "language_info": {
      "name": "python"
    }
  },
  "nbformat": 4,
  "nbformat_minor": 0
}